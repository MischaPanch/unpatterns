{
 "cells": [
  {
   "metadata": {},
   "cell_type": "markdown",
   "source": "# Salvaging Python's broken `object` by adding `__getstate__`",
   "id": "f9b369d090a67772"
  },
  {
   "metadata": {},
   "cell_type": "markdown",
   "source": [
    "## Intro: Pickling and Backwards Compatibility\n",
    "\n",
    "This unpattern is concerned with the persistence of python objects via pickle. I\n",
    "realize that in the wild of python programming, comparatively few people care\n",
    "about backwards compatibility in general, not even talking about backwards\n",
    "compatibility of pickled objects.\n",
    "\n",
    "Ensuring the latter means that if you (or your user) saved an object of some\n",
    "class, say `A` with pickle, you should be able to load it with a newer version\n",
    "of the codebase. Curiously, this is especially important in the context of \n",
    "machine learning (precisely where it is routinely neglected) because one might\n",
    "want to load a previously saved model even after\n",
    "performing a seemingly innocent update of some ML library dependency.\n",
    "\n",
    "Alas, as most of us learn the hard way sooner or later, there is no such thing\n",
    "as an innocent update of a dependency in the python world..."
   ],
   "id": "ae15cddf34abd6a"
  },
  {
   "metadata": {},
   "cell_type": "markdown",
   "source": [
    "The main mechanism for providing backwards compatibility for pickled objects is\n",
    "the `__setstate__` magic method. If your class definition has changed between\n",
    "the time it was pickled and the time it is loaded, implementing `__setstate__`\n",
    "allows you to modify how the state of the object is restored.\n",
    "\n",
    "It's not always sufficient (e.g., if the class name has changed, it won't work),\n",
    "but knowing about and using `__setstate__` already covers a lot of cases. In the\n",
    "last section of the article I'll add a short overview of additional techniques\n",
    "for backwards compatibility when just `__setstate__` is not enough. Since these\n",
    "things are actually reasonable or even required, they don't fit the \"unpattern\"\n",
    "scheme and are therefore not the main focus. If you want to learn useful stuff,\n",
    "give them a glance, but useful stuff is not what we're here for ;)."
   ],
   "id": "250e7b55c983069a"
  },
  {
   "metadata": {},
   "cell_type": "markdown",
   "source": [
    "### Example of Non-problematic Persistence\n",
    "\n",
    "Before outlining the problem, let's have a look at a case without issues:"
   ],
   "id": "d62245f771815fcd"
  },
  {
   "metadata": {
    "ExecuteTime": {
     "end_time": "2024-05-09T21:21:42.964326Z",
     "start_time": "2024-05-09T21:21:42.946334Z"
    }
   },
   "cell_type": "code",
   "source": [
    "from typing import Any\n",
    "import pickle\n",
    "\n",
    "class A:\n",
    "    def __init__(self, foo: int):\n",
    "        self.foo = foo\n",
    "\n",
    "serialized_a = pickle.dumps(A(42))\n",
    "\n",
    "\n",
    "# changing the class definition to illustrate deserialization\n",
    "# We add a new default argument to the constructor and a new field\n",
    "\n",
    "class A:\n",
    "    def __init__(self, foo: int, baz: str = \"baz\"):\n",
    "        self.foo = foo\n",
    "        self.baz = baz\n",
    "        self.new_field = \"new_value\"\n"
   ],
   "id": "ccd1f66da156f330",
   "outputs": [],
   "execution_count": 1
  },
  {
   "metadata": {},
   "cell_type": "markdown",
   "source": [
    "If we try to load the pickled object, we get a malformed object (note that there\n",
    "is no error on loading, which is a problem in itself, since no static\n",
    "code analysis will ever inform you about this):"
   ],
   "id": "a079a64dfb31f4a9"
  },
  {
   "metadata": {
    "ExecuteTime": {
     "end_time": "2024-05-09T21:21:43.001634Z",
     "start_time": "2024-05-09T21:21:42.997753Z"
    }
   },
   "cell_type": "code",
   "source": [
    "def print_error(e: Exception):\n",
    "    print(f\"{e.__class__.__name__}: {e}\")\n"
   ],
   "id": "3bbf220674919e6e",
   "outputs": [],
   "execution_count": 2
  },
  {
   "metadata": {
    "ExecuteTime": {
     "end_time": "2024-05-09T21:21:43.032019Z",
     "start_time": "2024-05-09T21:21:43.028465Z"
    }
   },
   "cell_type": "code",
   "source": [
    "a: A = pickle.loads(serialized_a)\n",
    "try:\n",
    "    a.baz\n",
    "except AttributeError as e:\n",
    "    print_error(e)"
   ],
   "id": "40763da11fabd6c8",
   "outputs": [
    {
     "name": "stdout",
     "output_type": "stream",
     "text": [
      "AttributeError: 'A' object has no attribute 'baz'\n"
     ]
    }
   ],
   "execution_count": 3
  },
  {
   "metadata": {},
   "cell_type": "markdown",
   "source": "With `__setstate__` we can fix this:",
   "id": "ac711ab4535b79f2"
  },
  {
   "metadata": {
    "ExecuteTime": {
     "end_time": "2024-05-09T21:21:43.046647Z",
     "start_time": "2024-05-09T21:21:43.041949Z"
    }
   },
   "cell_type": "code",
   "source": [
    "class A:\n",
    "    def __init__(self, foo: int, baz: str = \"baz\"):\n",
    "        self.foo = foo\n",
    "        self.baz = baz\n",
    "        self.new_field = \"new_value\"\n",
    "        \n",
    "    def __setstate__(self, state: dict[str, Any]):\n",
    "        full_state = {\"baz\": \"baz\", \"new_field\": \"new_value\"}\n",
    "        full_state.update(state)\n",
    "        self.__dict__.update(full_state)"
   ],
   "id": "be21004db1fbfc4",
   "outputs": [],
   "execution_count": 4
  },
  {
   "metadata": {
    "ExecuteTime": {
     "end_time": "2024-05-09T21:21:43.094409Z",
     "start_time": "2024-05-09T21:21:43.088587Z"
    }
   },
   "cell_type": "code",
   "source": [
    "a: A = pickle.loads(serialized_a)\n",
    "a.new_field\n"
   ],
   "id": "72f8d99f52065f6c",
   "outputs": [
    {
     "data": {
      "text/plain": [
       "'new_value'"
      ]
     },
     "execution_count": 5,
     "metadata": {},
     "output_type": "execute_result"
    }
   ],
   "execution_count": 5
  },
  {
   "metadata": {},
   "cell_type": "markdown",
   "source": [
    "```{note} \n",
    "Be careful what you put into your classes' states! Any extension in\n",
    "fields, private or public, needs to be reflected in `__setstate__` if there's a\n",
    "chance that you or you users might have pickled objects of the old version.\n",
    "\n",
    "This is not true for methods, which are not part of the state and therefore\n",
    "don't need special consideration. \n",
    "```"
   ],
   "id": "ebe28209cfa78bdd"
  },
  {
   "metadata": {},
   "cell_type": "markdown",
   "source": [
    "So far so good, `__setstate__` is a well-known mechanism,\n",
    "and it allows loading serialized objects of older code versions.\n",
    "Now we arrive at the central problem that this article deals with:\n",
    "\n",
    "**It is possible to run into non-recoverable situations!**"
   ],
   "id": "40c68d141c40308b"
  },
  {
   "metadata": {},
   "cell_type": "markdown",
   "source": "## Problem: Non-recoverable Serialization Errors",
   "id": "82f57b1419e9cc07"
  },
  {
   "metadata": {},
   "cell_type": "markdown",
   "source": [
    "Let's change the original class definition to not include state, just methods, \n",
    "and then to extend it with a new field."
   ],
   "id": "cb802281072c3b89"
  },
  {
   "metadata": {
    "ExecuteTime": {
     "end_time": "2024-05-09T21:21:43.105601Z",
     "start_time": "2024-05-09T21:21:43.101411Z"
    }
   },
   "cell_type": "code",
   "source": [
    "class A:\n",
    "    @staticmethod\n",
    "    def get_foo():\n",
    "        return \"foo\"\n",
    "    \n",
    "    \n",
    "serialized_a = pickle.dumps(A())\n",
    "\n",
    "class A:\n",
    "    def __init__(self, foo: str = \"foo\"):\n",
    "        self.foo = foo\n",
    "        \n",
    "    def __setstate__(self, state):\n",
    "        full_state = {\"foo\": \"foo\"}\n",
    "        full_state.update(state)\n",
    "        self.__dict__.update(full_state)\n",
    "    \n",
    "    def get_foo(self):\n",
    "        return self.foo"
   ],
   "id": "a1b7d2dffac3bbc3",
   "outputs": [],
   "execution_count": 6
  },
  {
   "metadata": {},
   "cell_type": "markdown",
   "source": [
    "This is something than can easily happen in a real-world scenario. In a first version,\n",
    "the class might have been a simple container for methods, but later it was\n",
    "extended to include state as well (which is precisely how I ran into this\n",
    "issue and why I'm writing this article).\n",
    "\n",
    "Now, at deserialization, something unexpected happens:"
   ],
   "id": "4090b85591da0d8b"
  },
  {
   "metadata": {
    "ExecuteTime": {
     "end_time": "2024-05-09T21:21:43.118440Z",
     "start_time": "2024-05-09T21:21:43.113810Z"
    }
   },
   "cell_type": "code",
   "source": [
    "a_deserialized: A = pickle.loads(serialized_a)\n",
    "\n",
    "try:\n",
    "    a_deserialized.get_foo()\n",
    "except Exception as e:\n",
    "    print_error(e)"
   ],
   "id": "699bbe9e8e73db32",
   "outputs": [
    {
     "name": "stdout",
     "output_type": "stream",
     "text": [
      "AttributeError: 'A' object has no attribute 'foo'\n"
     ]
    }
   ],
   "execution_count": 7
  },
  {
   "metadata": {},
   "cell_type": "markdown",
   "source": "The same if we try to access the attribute directly:",
   "id": "6cc35ac4c1da430"
  },
  {
   "metadata": {
    "ExecuteTime": {
     "end_time": "2024-05-09T21:21:43.160760Z",
     "start_time": "2024-05-09T21:21:43.157511Z"
    }
   },
   "cell_type": "code",
   "source": [
    "try:\n",
    "    a_deserialized.foo\n",
    "except Exception as e:\n",
    "    print_error(e)"
   ],
   "id": "dd7cbd22ec4a8003",
   "outputs": [
    {
     "name": "stdout",
     "output_type": "stream",
     "text": [
      "AttributeError: 'A' object has no attribute 'foo'\n"
     ]
    }
   ],
   "execution_count": 8
  },
  {
   "metadata": {},
   "cell_type": "markdown",
   "source": [
    "What's going on? We did the right thing and implemented `__setstate__`! Why is it\n",
    "not working?"
   ],
   "id": "60215cae351dbdc7"
  },
  {
   "metadata": {},
   "cell_type": "markdown",
   "source": [
    "The reason is that if `__gestate__` is not implemented explicitly\n",
    "in a stateless class, the deserialization process will not call `__setstate__` at all!\n",
    "\n",
    "In all my years of python programming, I have never heard of this and I don't\n",
    "fully understand why the python developers decided to implement it this way.\n",
    "Optimization reasons don't really make sense here since setting an empty state\n",
    "would never be a performance bottleneck.\n",
    "\n",
    "This behavior, however, is documented and thus \"desired\" - see \n",
    "[here](https://docs.python.org/3/library/pickle.html#object.__setstate__)\n",
    "(the output of `__reduce__`, which I fortunately never had to use, is essentially\n",
    "controlled by `__getstate__`).\n",
    "\n",
    "Here the crux of this behavior is clearly demonstrated:"
   ],
   "id": "8a2de14d6b474c07"
  },
  {
   "metadata": {
    "ExecuteTime": {
     "end_time": "2024-05-09T21:21:43.185139Z",
     "start_time": "2024-05-09T21:21:43.179843Z"
    }
   },
   "cell_type": "code",
   "source": [
    "class ClNoState:\n",
    "    def amethod(self):\n",
    "        pass\n",
    "    \n",
    "class ClWithState:\n",
    "    def __init__(self):\n",
    "        self.a = \"a\"\n",
    "        \n",
    "print(f\"{ClNoState().__getstate__()=}\")\n",
    "\n",
    "print(f\"{ClWithState().__getstate__()=}\")"
   ],
   "id": "19bfcd5591e89228",
   "outputs": [
    {
     "name": "stdout",
     "output_type": "stream",
     "text": [
      "ClNoState().__getstate__()=None\n",
      "ClWithState().__getstate__()={'a': 'a'}\n"
     ]
    }
   ],
   "execution_count": 9
  },
  {
   "metadata": {},
   "cell_type": "markdown",
   "source": [
    "The technical reason behind this is probably that `object()` doesn't have a\n",
    "`__dict__`. This makes it probably the only object in python that doesn't have a\n",
    "`__dict__` and there's a philosophical question whether `object()` is really an\n",
    "object...\n",
    "\n",
    "Interestingly, the `ClNoState` does have a `__dict__`, but `__getstate__` still\n",
    "returns `None`."
   ],
   "id": "7afdf59b0592fc16"
  },
  {
   "metadata": {
    "ExecuteTime": {
     "end_time": "2024-05-09T21:21:43.227478Z",
     "start_time": "2024-05-09T21:21:43.224075Z"
    }
   },
   "cell_type": "code",
   "source": [
    "print(f\"{ClNoState().__dict__=}\")\n",
    "print(f\"{object().__getstate__()=}\")\n",
    "\n",
    "try:\n",
    "    object().__dict__\n",
    "except AttributeError as e:\n",
    "    print_error(e)"
   ],
   "id": "98733c62b36426ce",
   "outputs": [
    {
     "name": "stdout",
     "output_type": "stream",
     "text": [
      "ClNoState().__dict__={}\n",
      "None\n",
      "AttributeError: 'object' object has no attribute '__dict__'\n"
     ]
    }
   ],
   "execution_count": 10
  },
  {
   "metadata": {},
   "cell_type": "markdown",
   "source": [
    "I think it's fair to say that `object()` is not a proper object. Without the\n",
    "`__dict__` it can't have attributes, so there's some magic happening when a\n",
    "class is inheriting from `object` that adds all the functionality of python\n",
    "objects. I guess this happens at compile time."
   ],
   "id": "f9c9be7fb5dda780"
  },
  {
   "metadata": {
    "ExecuteTime": {
     "end_time": "2024-05-09T21:21:43.253822Z",
     "start_time": "2024-05-09T21:21:43.249624Z"
    }
   },
   "cell_type": "code",
   "source": [
    "# Can't assign attributes\n",
    "try:\n",
    "    object().a = \"a\"\n",
    "except AttributeError as e:\n",
    "    print_error(e)"
   ],
   "id": "8416c2526b10e618",
   "outputs": [
    {
     "name": "stdout",
     "output_type": "stream",
     "text": [
      "AttributeError: 'object' object has no attribute 'a'\n"
     ]
    }
   ],
   "execution_count": 11
  },
  {
   "metadata": {},
   "cell_type": "markdown",
   "source": [
    "### A small rant:\n",
    "\n",
    "Note that dealing with such problems from unpickling is pretty much a nightmare!\n",
    "You can't properly debug, because neither `__setstate__` nor `__init__` will\n",
    "ever be called. All you get is a malformed object, and you have to go figure on\n",
    "your own what's going on. Googling things like \"pickle not calling\n",
    "`__setstate__`\" does not provide immediate relief, and I was lucky enough that a\n",
    "colleague had found the right place in the python docs to understand what was\n",
    "going on.\n",
    "\n",
    "\n",
    "Even after understanding the problem, we are still in a bad spot. There's no way\n",
    "of fixing this! If any of your users have serialized an object of the old\n",
    "version (without state), you can't help them. It can never be loaded with the\n",
    "updated codebase. They would need to do some pretty nasty hacking on their side\n",
    "to overcome this.\n",
    "\n",
    "It seems almost as if python suggests that classes once defined without state,\n",
    "should remain without state forever. This is not a reasonable limitation, and a\n",
    "very unnecessary one at that."
   ],
   "id": "5b02c6f4d253cdf3"
  },
  {
   "metadata": {},
   "cell_type": "markdown",
   "source": "## Avoiding this Mess",
   "id": "3c4d18df9aab5b35"
  },
  {
   "metadata": {},
   "cell_type": "markdown",
   "source": [
    "Without going into too many details on `__reduce__` and `__getstate__`, the\n",
    "problem can be avoided by always implementing `__getstate__` in stateless classes that\n",
    "might be pickled. For classes with state it's not strictly necessary (see above).\n",
    "\n",
    "This is not an unpattern yet (have patience) but an actual advice. Here it is in action:"
   ],
   "id": "60b339af0228f0a2"
  },
  {
   "metadata": {
    "ExecuteTime": {
     "end_time": "2024-05-09T21:21:43.309906Z",
     "start_time": "2024-05-09T21:21:43.304152Z"
    }
   },
   "cell_type": "code",
   "source": [
    "class A:\n",
    "    def __getstate__(self):\n",
    "        return self.__dict__\n",
    "    \n",
    "    @staticmethod\n",
    "    def get_foo():\n",
    "        return \"foo\"\n",
    "    \n",
    "    \n",
    "serialized_a = pickle.dumps(A())\n",
    "\n",
    "# we no longer need __getstate__ in the new version since we have state now\n",
    "class A:\n",
    "    def __init__(self, foo: str = \"foo\"):\n",
    "        self.foo = foo\n",
    "        \n",
    "    def __setstate__(self, state):\n",
    "        full_state = {\"foo\": \"foo\"}\n",
    "        full_state.update(state)\n",
    "        self.__dict__.update(full_state)\n",
    "    \n",
    "    def get_foo(self):\n",
    "        return self.foo"
   ],
   "id": "36bfadf576219490",
   "outputs": [],
   "execution_count": 12
  },
  {
   "metadata": {},
   "cell_type": "markdown",
   "source": "Now things work as expected:",
   "id": "8e4ec7d9b556d526"
  },
  {
   "metadata": {
    "ExecuteTime": {
     "end_time": "2024-05-09T21:21:43.333086Z",
     "start_time": "2024-05-09T21:21:43.328913Z"
    }
   },
   "cell_type": "code",
   "source": [
    "a_deserialized: A = pickle.loads(serialized_a)\n",
    "a_deserialized.get_foo()"
   ],
   "id": "617bce15f63ebba5",
   "outputs": [
    {
     "data": {
      "text/plain": [
       "'foo'"
      ]
     },
     "execution_count": 13,
     "metadata": {},
     "output_type": "execute_result"
    }
   ],
   "execution_count": 13
  },
  {
   "metadata": {},
   "cell_type": "markdown",
   "source": "## The Unpattern: Overwriting builtins",
   "id": "ba18c53669fb9314"
  },
  {
   "metadata": {},
   "cell_type": "markdown",
   "source": [
    "### Part 1: Overwriting `object`\n",
    "\n",
    "There is no real reason that I'm aware of for any class not not have the default\n",
    "of `__getstate__` returning `self.__dict__`.\n",
    "\n",
    "Well, if `object`, from which any class inherits, does not behave the way we want to\n",
    "(does not implement `__getstate__` properly), then let's force it! We're in\n",
    "python after all - everything should be possible!"
   ],
   "id": "193ff106eaa778c8"
  },
  {
   "metadata": {},
   "cell_type": "markdown",
   "source": "![what-to-do](images/i_know_what_to_do.jpeg)",
   "id": "9c5652261f5af53c"
  },
  {
   "metadata": {},
   "cell_type": "markdown",
   "source": [
    "### Disclaimer\n",
    "\n",
    "I did not in fact have the stregth to do it... But not for lack of trying.\n",
    "\n",
    "What follows below is a mostly failed attempt to overwrite python builtin behavior\n",
    "of how classes are defined and objects instantiated\n",
    "(with only partial and unsatisfactory success). Note that even if it worked (I think\n",
    "in python 2.7 it was possible to fully overwrite the default metaclass), it would have\n",
    "been a **terrible, terrible idea**!\n",
    "\n",
    "With this sorted out, let's go ahead."
   ],
   "id": "a496c6fc174a7f14"
  },
  {
   "metadata": {},
   "cell_type": "markdown",
   "source": [
    "The first thing to do is to define a class that will always have `__getstate__`.\n",
    "And the proper way of using this class (not the unpattern way) is to inherit\n",
    "from when needed - so it's going to be a mixin."
   ],
   "id": "32d9b4958e7e98b5"
  },
  {
   "metadata": {
    "ExecuteTime": {
     "end_time": "2024-05-09T21:21:43.380361Z",
     "start_time": "2024-05-09T21:21:43.376612Z"
    }
   },
   "cell_type": "code",
   "source": [
    "class GetstateMixin:\n",
    "    def __getstate__(self):\n",
    "        return self.__dict__"
   ],
   "id": "70b8eeba8cde6689",
   "outputs": [],
   "execution_count": 14
  },
  {
   "metadata": {},
   "cell_type": "markdown",
   "source": [
    "Now let's try to overwrite the default behavior of `object`\n",
    "such that all classes inherit from `GetstateMixin` by default."
   ],
   "id": "4d6a65c91120688d"
  },
  {
   "metadata": {
    "ExecuteTime": {
     "end_time": "2024-05-09T21:21:43.403074Z",
     "start_time": "2024-05-09T21:21:43.398927Z"
    }
   },
   "cell_type": "code",
   "source": [
    "import builtins\n",
    "\n",
    "builtins.object = GetstateMixin"
   ],
   "id": "974df4abb0344d1a",
   "outputs": [],
   "execution_count": 15
  },
  {
   "metadata": {},
   "cell_type": "markdown",
   "source": [
    "Did that do the trick? Well, almost, but not good enough. We do get that classes that \n",
    "inherit from `object` now have `__getstate__`:"
   ],
   "id": "ce9b1c7087650c5f"
  },
  {
   "metadata": {
    "ExecuteTime": {
     "end_time": "2024-05-09T21:21:43.454717Z",
     "start_time": "2024-05-09T21:21:43.451148Z"
    }
   },
   "cell_type": "code",
   "source": [
    "class AExplicitObject(object):\n",
    "    pass"
   ],
   "id": "b9470f2030260c63",
   "outputs": [],
   "execution_count": 16
  },
  {
   "metadata": {
    "ExecuteTime": {
     "end_time": "2024-05-09T21:21:43.478770Z",
     "start_time": "2024-05-09T21:21:43.473733Z"
    }
   },
   "cell_type": "code",
   "source": "AExplicitObject().__getstate__()",
   "id": "c205907d351d2a0",
   "outputs": [
    {
     "data": {
      "text/plain": [
       "{}"
      ]
     },
     "execution_count": 17,
     "metadata": {},
     "output_type": "execute_result"
    }
   ],
   "execution_count": 17
  },
  {
   "metadata": {},
   "cell_type": "markdown",
   "source": [
    "However, unfortunately, all that we have achieved is that now inheriting from `object` explicitly\n",
    "and implicitly leads to different behavior. So:"
   ],
   "id": "51bfb0c4c2d7720a"
  },
  {
   "metadata": {
    "ExecuteTime": {
     "end_time": "2024-05-09T21:21:43.520032Z",
     "start_time": "2024-05-09T21:21:43.516446Z"
    }
   },
   "cell_type": "code",
   "source": [
    "class AImplicitObject:\n",
    "    pass"
   ],
   "id": "f4e7d6ddbf373c2e",
   "outputs": [],
   "execution_count": 18
  },
  {
   "metadata": {},
   "cell_type": "markdown",
   "source": "will still lead to the old behavior of `__getstate__` returning `None`:",
   "id": "a9737ce3f82a955f"
  },
  {
   "metadata": {
    "ExecuteTime": {
     "end_time": "2024-05-09T21:21:43.547813Z",
     "start_time": "2024-05-09T21:21:43.544357Z"
    }
   },
   "cell_type": "code",
   "source": "print(f\"{AImplicitObject().__getstate__()=}\")",
   "id": "dabb13cca87cc52c",
   "outputs": [
    {
     "name": "stdout",
     "output_type": "stream",
     "text": [
      "AImplicitObject().__getstate__()=None\n"
     ]
    }
   ],
   "execution_count": 19
  },
  {
   "metadata": {},
   "cell_type": "markdown",
   "source": [
    "This unexpected difference in behavior is a major WTF, and you should never do\n",
    "the hack outlined above!\n",
    "\n",
    "We can better understand why this happened by looking at the `__mro__` (method\n",
    "resolution order) attribute of the classes, which will list the parent classes\n",
    "in the order in which they are searched for attributes:"
   ],
   "id": "d46e408e68df850"
  },
  {
   "metadata": {
    "ExecuteTime": {
     "end_time": "2024-05-09T21:21:43.582924Z",
     "start_time": "2024-05-09T21:21:43.577966Z"
    }
   },
   "cell_type": "code",
   "source": "AExplicitObject.__mro__",
   "id": "d00d9b037daf37b7",
   "outputs": [
    {
     "data": {
      "text/plain": [
       "(__main__.AExplicitObject, __main__.GetstateMixin, object)"
      ]
     },
     "execution_count": 20,
     "metadata": {},
     "output_type": "execute_result"
    }
   ],
   "execution_count": 20
  },
  {
   "metadata": {
    "ExecuteTime": {
     "end_time": "2024-05-09T21:21:43.594870Z",
     "start_time": "2024-05-09T21:21:43.589729Z"
    }
   },
   "cell_type": "code",
   "source": "AImplicitObject.__mro__",
   "id": "fb1635e74044fd8d",
   "outputs": [
    {
     "data": {
      "text/plain": [
       "(__main__.AImplicitObject, object)"
      ]
     },
     "execution_count": 21,
     "metadata": {},
     "output_type": "execute_result"
    }
   ],
   "execution_count": 21
  },
  {
   "metadata": {},
   "cell_type": "markdown",
   "source": [
    "This makes clear: we didn't actually overwrite `object`,.\n",
    "The real `object` class is added somewhere, I guess in the python compiler, and we can\n",
    "neither get rid of it nor overwrite it."
   ],
   "id": "37e9acc9716c3592"
  },
  {
   "metadata": {},
   "cell_type": "markdown",
   "source": [
    "### Part 2: Overwriting `type`\n",
    "\n",
    "I'm not giving up yet! Since I had the misfortune of having to deal with\n",
    "metaclasses in the past, I know that there is something beyond inheritance to\n",
    "influence how classes are defined.\n",
    "\n",
    "A metaclass defines how a class is defined, thus acting before the constructor\n",
    "of the class is called, or before inheritance is carried out. The relevant\n",
    "method for metaclasses is `__new__`.\n",
    "\n",
    "The default metaclass that is used for all classes implicitly (just like object)\n",
    "is `type`. If we didn't succeed in overwriting `object`, maybe we can overwrite\n",
    "`type`? Let's try!\n",
    "\n",
    "![go-deeper](images/have_to_go_deeper.jpg)"
   ],
   "id": "fc2a6c97de208946"
  },
  {
   "metadata": {},
   "cell_type": "markdown",
   "source": [
    "If we call `help(type)`, the first sentences show its signature:\n",
    "\n",
    "```\n",
    "class type(object)\n",
    " |  type(object) -> the object's type\n",
    " |  type(name, bases, dict, **kwds) -> a new type\n",
    " |  \n",
    "```\n",
    "\n",
    "So, if we want to sneak in our `GetstateMixin`,\n",
    "we need to extend the `bases` to include it.\n",
    " Here the extended type implementation:"
   ],
   "id": "714fa95873135e35"
  },
  {
   "metadata": {
    "ExecuteTime": {
     "end_time": "2024-05-09T21:21:43.617404Z",
     "start_time": "2024-05-09T21:21:43.613080Z"
    }
   },
   "cell_type": "code",
   "source": [
    "class type_with_getstate(type):\n",
    "    def __new__(cls, *args):\n",
    "        args = list(args)\n",
    "        args[1] += (GetstateMixin,)\n",
    "        return super().__new__(cls, *args)"
   ],
   "id": "2633bdd942244558",
   "outputs": [],
   "execution_count": 22
  },
  {
   "metadata": {},
   "cell_type": "markdown",
   "source": "Before overwriting the builtin, let's see whether this works",
   "id": "cddcd7539fa72f85"
  },
  {
   "metadata": {
    "ExecuteTime": {
     "end_time": "2024-05-09T21:21:43.654621Z",
     "start_time": "2024-05-09T21:21:43.651211Z"
    }
   },
   "cell_type": "code",
   "source": [
    "class AWithMeta(metaclass=type_with_getstate):\n",
    "    pass\n",
    "\n",
    "print(f\"{AWithMeta().__getstate__()=}\")\n",
    "print(f\"{AWithMeta.__mro__=}\")"
   ],
   "id": "c566ae05fcae6883",
   "outputs": [
    {
     "name": "stdout",
     "output_type": "stream",
     "text": [
      "AWithMeta().__getstate__()={}\n",
      "AWithMeta.__mro__=(<class '__main__.AWithMeta'>, <class '__main__.GetstateMixin'>, <class 'object'>)\n"
     ]
    }
   ],
   "execution_count": 23
  },
  {
   "metadata": {},
   "cell_type": "markdown",
   "source": [
    "Looks good. Quick check on the other functionality of `type` (you know, retrieving\n",
    "the type of an object):"
   ],
   "id": "bf5395bfac62f007"
  },
  {
   "metadata": {
    "ExecuteTime": {
     "end_time": "2024-05-09T21:21:43.676986Z",
     "start_time": "2024-05-09T21:21:43.672982Z"
    }
   },
   "cell_type": "code",
   "source": [
    "try:\n",
    "    type_with_getstate(5)\n",
    "except Exception as e:\n",
    "    print_error(e)"
   ],
   "id": "b535029ea53c7887",
   "outputs": [
    {
     "name": "stdout",
     "output_type": "stream",
     "text": [
      "IndexError: list index out of range\n"
     ]
    }
   ],
   "execution_count": 24
  },
  {
   "metadata": {},
   "cell_type": "markdown",
   "source": [
    "What happened? Why did it stop doing its job - we only overwrote `__new__`, not `__call__`.\n",
    "Is `__new__` being called when whe use it to determine an object's type? This this should work:\n"
   ],
   "id": "98302556ff3d07da"
  },
  {
   "metadata": {
    "ExecuteTime": {
     "end_time": "2024-05-09T21:21:43.711624Z",
     "start_time": "2024-05-09T21:21:43.708047Z"
    }
   },
   "cell_type": "code",
   "source": [
    "class type_with_getstate_attempt2(type):\n",
    "    def __new__(cls, *args):\n",
    "        if len(args) > 1:\n",
    "            args = list(args)\n",
    "            args[1] += (GetstateMixin,)\n",
    "        return super().__new__(cls, *args)\n"
   ],
   "id": "6dbdb9da602c8610",
   "outputs": [],
   "execution_count": 25
  },
  {
   "metadata": {
    "ExecuteTime": {
     "end_time": "2024-05-09T21:21:43.734005Z",
     "start_time": "2024-05-09T21:21:43.728902Z"
    }
   },
   "cell_type": "code",
   "source": [
    "try:\n",
    "    type_with_getstate_attempt2(5)\n",
    "except Exception as e:\n",
    "    print_error(e)"
   ],
   "id": "8ccd4c1ed0ad8424",
   "outputs": [
    {
     "name": "stdout",
     "output_type": "stream",
     "text": [
      "TypeError: type.__new__() takes exactly 3 arguments (1 given)\n"
     ]
    }
   ],
   "execution_count": 26
  },
  {
   "metadata": {},
   "cell_type": "markdown",
   "source": [
    "This got too weird for me, so I gave up on trying to undestand it exactly... Note that even this\n",
    "won't work:"
   ],
   "id": "e1acc92da575b207"
  },
  {
   "metadata": {
    "ExecuteTime": {
     "end_time": "2024-05-09T21:21:43.770921Z",
     "start_time": "2024-05-09T21:21:43.766074Z"
    }
   },
   "cell_type": "code",
   "source": [
    "class type_extended_with_pass(type):\n",
    "    pass\n",
    "\n",
    "try:\n",
    "    type_extended_with_pass(5)\n",
    "except Exception as e:\n",
    "    print_error(e)"
   ],
   "id": "6fbb92c57e7629f0",
   "outputs": [
    {
     "name": "stdout",
     "output_type": "stream",
     "text": [
      "TypeError: type.__new__() takes exactly 3 arguments (1 given)\n"
     ]
    }
   ],
   "execution_count": 27
  },
  {
   "metadata": {},
   "cell_type": "markdown",
   "source": [
    "#### Bruteforcing the Solution\n",
    "\n",
    "As above, I take the attitude that if things don't want to behave my way, I will force them. \n",
    "Here an actually working extension of type:"
   ],
   "id": "668173721a1fc5b8"
  },
  {
   "metadata": {
    "ExecuteTime": {
     "end_time": "2024-05-09T21:21:43.788623Z",
     "start_time": "2024-05-09T21:21:43.783412Z"
    }
   },
   "cell_type": "code",
   "source": [
    "from copy import deepcopy\n",
    "\n",
    "_original_type = deepcopy(type)\n",
    "\n",
    "class extended_type(_original_type):\n",
    "    def __new__(cls, *args, **kwargs):\n",
    "        # type of an object\n",
    "        if len(args) == 1:\n",
    "            return _original_type(*args)\n",
    "        # used as metaclass\n",
    "        args = list(args)\n",
    "        args[1] += (GetstateMixin,)\n",
    "        return super().__new__(cls, *args, **kwargs)\n",
    " \n",
    " \n",
    "print(f\"{extended_type(3)=}\")"
   ],
   "id": "4562530b467aa480",
   "outputs": [
    {
     "name": "stdout",
     "output_type": "stream",
     "text": [
      "extended_type(3)=<class 'int'>\n"
     ]
    }
   ],
   "execution_count": 28
  },
  {
   "metadata": {},
   "cell_type": "markdown",
   "source": "This works, so let's overwrite the builtin",
   "id": "f16cf2544e4e5a28"
  },
  {
   "metadata": {
    "ExecuteTime": {
     "end_time": "2024-05-09T21:21:43.800503Z",
     "start_time": "2024-05-09T21:21:43.796731Z"
    }
   },
   "cell_type": "code",
   "source": "builtins.type = extended_type",
   "id": "e9a1b489793dd4a3",
   "outputs": [],
   "execution_count": 29
  },
  {
   "metadata": {},
   "cell_type": "markdown",
   "source": [
    "Unfortunately, this is only a partial success. Just like with overwriting `object`, all this\n",
    "has done was to create a difference between classes that use `type` as metaclass explicitly \n",
    "and classes that don't."
   ],
   "id": "7d6a201b2d6a9378"
  },
  {
   "metadata": {
    "ExecuteTime": {
     "end_time": "2024-05-09T21:21:43.845087Z",
     "start_time": "2024-05-09T21:21:43.840566Z"
    }
   },
   "cell_type": "code",
   "source": [
    "class AExplicitMeta(metaclass=type):\n",
    "    pass\n",
    "\n",
    "class AImplicitMeta:\n",
    "    pass\n",
    "\n",
    "print(f\"{AExplicitMeta().__getstate__()=}\")\n",
    "print(f\"{AExplicitMeta.__mro__=}\")\n",
    "print(\"--------------------------------------\")\n",
    "print(f\"{AImplicitMeta().__getstate__()=}\")\n",
    "print(f\"{AImplicitMeta.__mro__=}\")"
   ],
   "id": "4b9059bf210a440c",
   "outputs": [
    {
     "name": "stdout",
     "output_type": "stream",
     "text": [
      "AExplicitMeta().__getstate__()={}\n",
      "AExplicitMeta.__mro__=(<class '__main__.AExplicitMeta'>, <class '__main__.GetstateMixin'>, <class 'object'>)\n",
      "--------------------------------------\n",
      "AImplicitMeta().__getstate__()=None\n",
      "AImplicitMeta.__mro__=(<class '__main__.AImplicitMeta'>, <class 'object'>)\n"
     ]
    }
   ],
   "execution_count": 30
  },
  {
   "metadata": {},
   "cell_type": "markdown",
   "source": [
    "We can't fight the compiler. Or maybe we can, but I don't know how. Feel free to\n",
    "fire up a PR if you want to hack even deeper and find a solution!"
   ],
   "id": "b813c703d2b5bc21"
  },
  {
   "metadata": {},
   "cell_type": "markdown",
   "source": [
    "## Conclusion\n",
    "\n",
    "We can't fully override builtin behavior because this behavior is not only\n",
    "rooted in the `builtins` module but also somewhere else. We can only somehow\n",
    "override it, by making explicit invocations of `object` and `type` behave\n",
    "differently, but that's really not satisfactory...\n",
    "\n",
    "In any case, trying that was a bad idea from the start! Although having\n",
    "`__getstate__` return `None` for objects without a state seems like a bad idea\n",
    "as well, so the goal was a noble one. Note, however, that two times minus\n",
    "usually doesn't turn to plus in software development."
   ],
   "id": "1de7dcc23140a54b"
  },
  {
   "metadata": {},
   "cell_type": "markdown",
   "source": [
    "## Last Remarks: Advice on Backwards Compatibility with Pickling\n",
    "\n",
    "Here some actual things you could and should do to prevent deserialization\n",
    "errors:\n",
    "\n",
    "1. Use `__setstate__`. I usually use the [setstate utility from sensAI](https://github.com/aai-institute/sensAI/blob/1d5d3d3bcd2b041d0d3084076a863d2b19f179db/src/sensai/util/pickle.py#L154)\n",
    "which provides a very convenient way of taking care of backwards compatibility.\n",
    "2. Write a `Serializable` class and always inherit from it\n",
    "for all objects that are meant to be persisted. This is also a useful marker\n",
    "interface, so you can easilly find all things that are expected to be serialized\n",
    "by you or by users\n",
    "\n",
    "```python \n",
    "class Serializable: \n",
    "    def __getstate__(self): \n",
    "        return self.__dict__\n",
    "```\n",
    "3. If you rename classes, add the old names to keep backwards compatibility.\n",
    "Note that you can do that inside a function that you then call in the module, this way\n",
    "the old name won't exist for code-analysis tools and won't appear in suggestions to import.\n",
    "This looks something like this (imagine code within some python module):\n",
    "\n",
    "```python\n",
    "\n",
    "# was previously called AOld\n",
    "class ANew:\n",
    "    pass\n",
    "\n",
    "def _restore_backwards_compatibility():\n",
    "    global AOld\n",
    "    AOld = ANew\n",
    "\n",
    "# For new users and for yourself AOld has disappeard from all IDE suggestions, but\n",
    "# by calling this you add it to the global scope, and thus in reality it will be there\n",
    "_restore_backwards_compatibility()\n",
    "```\n",
    "\n",
    "4. Set up tests that previously pickled objects can still be unpickled. It's fairly easy\n",
    "to do, just save instances of some classes as test resources, load them \n",
    "with pickle in tests and\n",
    "tests basic properties like access to attributes and `isinstance` checks."
   ],
   "id": "874c25c733905937"
  },
  {
   "metadata": {
    "ExecuteTime": {
     "end_time": "2024-05-09T21:21:43.860940Z",
     "start_time": "2024-05-09T21:21:43.858397Z"
    }
   },
   "cell_type": "code",
   "source": "",
   "id": "22a8af53c0909e8e",
   "outputs": [],
   "execution_count": 30
  }
 ],
 "metadata": {
  "kernelspec": {
   "display_name": "Python 3",
   "language": "python",
   "name": "python3"
  },
  "language_info": {
   "codemirror_mode": {
    "name": "ipython",
    "version": 2
   },
   "file_extension": ".py",
   "mimetype": "text/x-python",
   "name": "python",
   "nbconvert_exporter": "python",
   "pygments_lexer": "ipython2",
   "version": "2.7.6"
  }
 },
 "nbformat": 4,
 "nbformat_minor": 5
}
